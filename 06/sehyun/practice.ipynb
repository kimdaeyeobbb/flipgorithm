{
 "cells": [
  {
   "cell_type": "code",
   "execution_count": 4,
   "metadata": {},
   "outputs": [
    {
     "name": "stdout",
     "output_type": "stream",
     "text": [
      "NO\n",
      "NO\n",
      "NO\n"
     ]
    }
   ],
   "source": [
    "# 9012번 괄호\n",
    "\n",
    "n = int(input())\n",
    "\n",
    "for i in range(n):\n",
    "    ps = input()\n",
    "    sum = 0\n",
    "    for j in ps:\n",
    "        if j == '(':\n",
    "            sum += 1\n",
    "        else:\n",
    "            sum -= 1\n",
    "        if sum < 0:\n",
    "            break\n",
    "    if sum == 0:\n",
    "        print(\"YES\")\n",
    "    else:\n",
    "        print(\"NO\")"
   ]
  },
  {
   "cell_type": "code",
   "execution_count": 15,
   "metadata": {},
   "outputs": [
    {
     "name": "stdout",
     "output_type": "stream",
     "text": [
      "[3, 6, 2, 1, 5, 4, 7]\n"
     ]
    }
   ],
   "source": [
    "# 1158번 요세푸스 문제\n",
    "\n",
    "n, k = map(int, input().split())\n",
    "\n",
    "num_list = [i for i in range(1, n+1)]\n",
    "josephus = []\n",
    "\n",
    "idx = 0\n",
    "\n",
    "while len(num_list) > 0:\n",
    "    idx += k\n",
    "    n = len(num_list)\n",
    "    a = num_list.pop(idx % n - 1)\n",
    "    josephus.append(a)\n",
    "    idx -= 1\n",
    "\n",
    "print(josephus)"
   ]
  },
  {
   "cell_type": "code",
   "execution_count": 25,
   "metadata": {},
   "outputs": [
    {
     "ename": "KeyboardInterrupt",
     "evalue": "",
     "output_type": "error",
     "traceback": [
      "\u001b[0;31m---------------------------------------------------------------------------\u001b[0m",
      "\u001b[0;31mKeyboardInterrupt\u001b[0m                         Traceback (most recent call last)",
      "Cell \u001b[0;32mIn[25], line 50\u001b[0m\n\u001b[1;32m     46\u001b[0m deque \u001b[39m=\u001b[39m deque()\n\u001b[1;32m     48\u001b[0m \u001b[39mfor\u001b[39;00m _ \u001b[39min\u001b[39;00m \u001b[39mrange\u001b[39m(n):\n\u001b[0;32m---> 50\u001b[0m     cmd \u001b[39m=\u001b[39m \u001b[39mlist\u001b[39m(sys\u001b[39m.\u001b[39;49mstdin\u001b[39m.\u001b[39;49mreadline()\u001b[39m.\u001b[39msplit())\n\u001b[1;32m     52\u001b[0m     \u001b[39mif\u001b[39;00m cmd[\u001b[39m0\u001b[39m] \u001b[39m==\u001b[39m \u001b[39m\"\u001b[39m\u001b[39mpush_front\u001b[39m\u001b[39m\"\u001b[39m:\n\u001b[1;32m     53\u001b[0m         push_front(\u001b[39mint\u001b[39m(cmd[\u001b[39m-\u001b[39m\u001b[39m1\u001b[39m]), deque)\n",
      "\u001b[0;31mKeyboardInterrupt\u001b[0m: "
     ]
    }
   ],
   "source": [
    "# 10866번 덱\n",
    "\n",
    "from collections import deque\n",
    "import sys\n",
    "\n",
    "def push_front(x, deque):\n",
    "    deque.appendleft(x)\n",
    "    \n",
    "def push_back(x, deque):\n",
    "    deque.append(x)\n",
    "    \n",
    "def pop_front(deque):\n",
    "    if len(deque) > 0:\n",
    "        print(deque.popleft())\n",
    "    else:\n",
    "        print(-1)\n",
    "\n",
    "def pop_back(deque):\n",
    "    if len(deque) > 0:\n",
    "        print(deque.pop())\n",
    "    else:\n",
    "        print(-1)\n",
    "        \n",
    "def size(deque):\n",
    "    print(len(deque))\n",
    "    \n",
    "def empty(deque):\n",
    "    if len(deque) == 0:\n",
    "        print(1)\n",
    "    else:\n",
    "        print(0)\n",
    "\n",
    "def front(deque):\n",
    "    if len(deque) > 0:\n",
    "        print(deque[0])\n",
    "    else:\n",
    "        print(-1)\n",
    "\n",
    "def back(deque):\n",
    "    if len(deque) > 0:\n",
    "        print(deque[-1])\n",
    "    else:\n",
    "        print(-1)\n",
    "\n",
    "\n",
    "n = int(input())\n",
    "\n",
    "deque = deque()\n",
    "\n",
    "for _ in range(n):\n",
    "    \n",
    "    cmd = list(sys.stdin.readline().split())\n",
    "    \n",
    "    if cmd[0] == \"push_front\":\n",
    "        push_front(int(cmd[-1]), deque)\n",
    "    \n",
    "    elif cmd[0] == \"push_back\":\n",
    "        push_back(int(cmd[-1]), deque)\n",
    "    \n",
    "    elif cmd[0] == \"pop_front\":\n",
    "        pop_front(deque)\n",
    "        \n",
    "    elif cmd[0] == \"pop_back\":\n",
    "        pop_back(deque)\n",
    "        \n",
    "    elif cmd[0] == \"size\":\n",
    "        size(deque)\n",
    "        \n",
    "    elif cmd[0] == \"empty\":\n",
    "        empty(deque)\n",
    "        \n",
    "    elif cmd[0] == \"front\":\n",
    "        front(deque)\n",
    "        \n",
    "    elif cmd[0] == \"back\":\n",
    "        back(deque)"
   ]
  },
  {
   "cell_type": "code",
   "execution_count": null,
   "metadata": {},
   "outputs": [],
   "source": []
  }
 ],
 "metadata": {
  "kernelspec": {
   "display_name": "Python 3",
   "language": "python",
   "name": "python3"
  },
  "language_info": {
   "codemirror_mode": {
    "name": "ipython",
    "version": 3
   },
   "file_extension": ".py",
   "mimetype": "text/x-python",
   "name": "python",
   "nbconvert_exporter": "python",
   "pygments_lexer": "ipython3",
   "version": "3.11.2"
  },
  "orig_nbformat": 4
 },
 "nbformat": 4,
 "nbformat_minor": 2
}
